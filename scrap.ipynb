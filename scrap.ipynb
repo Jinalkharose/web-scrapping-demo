{
 "cells": [
  {
   "cell_type": "code",
   "execution_count": 3,
   "metadata": {},
   "outputs": [],
   "source": [
    "import pandas as pd\n",
    "import requests\n",
    "from bs4 import BeautifulSoup"
   ]
  },
  {
   "cell_type": "code",
   "execution_count": 89,
   "metadata": {},
   "outputs": [],
   "source": [
    "headers = 'Pass your header here'\n",
    "url = 'https://www.ambitionbox.com/list-of-companies?page={page}'\n",
    "\n",
    "def get_webpage(page=1):\n",
    "    print(page, end=' ')\n",
    "    response = requests.get(url=url.format(page=page),\n",
    "                           headers=headers)\n",
    "    \n",
    "    if response.status_code != 200:\n",
    "        return False\n",
    "    return response        "
   ]
  },
  {
   "cell_type": "code",
   "execution_count": 90,
   "metadata": {},
   "outputs": [],
   "source": [
    "def get_page_content(soup):\n",
    "    company_data = {\n",
    "        'name': [],\n",
    "        'rating': [],\n",
    "        'icon_domain': [],\n",
    "        'location': [],\n",
    "        'age': [],\n",
    "        'size': [],\n",
    "        'tags': [],\n",
    "    }\n",
    "    \n",
    "    all_company_div = soup.find_all('div', {'itemprop': 'itemListElement'})\n",
    "\n",
    "    for company_div in all_company_div:\n",
    "        # Company name\n",
    "        company_data['name'].append(company_div.find('h2').text.strip())\n",
    "        \n",
    "        # Company rating\n",
    "        company_data['rating'].append(company_div.find('p', {'class': 'rating'}).text.strip())\n",
    "\n",
    "        # Company icon domain\n",
    "        icon_domain = company_div.find('i', {'class': 'icon-domain'})\n",
    "        company_data['icon_domain'].append(icon_domain.parent.text.strip() if icon_domain else None) \n",
    "    \n",
    "        # Company location\n",
    "        location = company_div.find('i', {'class': 'icon-pin-drop'})\n",
    "        company_data['location'].append(location.parent.text.strip() if location else None) \n",
    "    \n",
    "        # Company age\n",
    "        age = company_div.find('i', {'class': 'icon-access-time'})\n",
    "        company_data['age'].append(age.parent.text.strip() if age else None) \n",
    "    \n",
    "        # Company size\n",
    "        size = company_div.find('i', {'class': 'icon-supervisor-account'})\n",
    "        company_data['size'].append(size.parent.text.strip() if size else None) \n",
    "\n",
    "        # Company tags\n",
    "        company_tags = company_div.find('ul', {'class': 'chips-block'})\n",
    "        if company_tags:\n",
    "            tag_string = ','.join(map(lambda x:x.text.strip(), company_tags.find_all('li')))\n",
    "            company_data['tags'].append(tag_string)\n",
    "        else:\n",
    "            company_data['tags'].append('')\n",
    "\n",
    "    company_df = pd.DataFrame(company_data)  \n",
    "    return company_df      "
   ]
  },
  {
   "cell_type": "code",
   "execution_count": 91,
   "metadata": {},
   "outputs": [
    {
     "name": "stdout",
     "output_type": "stream",
     "text": [
      "1 2 3 4 5 6 7 8 9 10 11 12 13 14 15 16 17 18 19 20 21 22 23 24 25 26 27 28 29 30 31 32 33 34 35 36 37 38 39 40 41 42 43 44 45 46 47 48 49 50 51 52 53 54 55 56 57 58 59 60 61 62 63 64 65 66 67 68 69 70 71 72 73 74 75 76 77 78 79 80 81 82 83 84 85 86 87 88 89 90 91 92 93 94 95 96 97 98 99 100 101 102 103 104 105 106 107 108 109 110 111 112 113 114 115 116 117 118 119 120 121 122 123 124 125 126 127 128 129 130 131 132 133 134 135 136 137 138 139 140 141 142 143 144 145 146 147 148 149 150 151 152 153 154 155 156 157 158 159 160 161 162 163 164 165 166 167 168 169 170 171 172 173 174 175 176 177 178 179 180 181 182 183 184 185 186 187 188 189 190 191 192 193 194 195 196 197 198 199 200 201 202 203 204 205 206 207 208 209 210 211 212 213 214 215 216 217 218 219 220 221 222 223 224 225 226 227 228 229 230 231 232 233 234 235 236 237 238 239 240 241 242 243 244 245 246 247 248 249 250 251 252 253 254 255 256 257 258 259 260 261 262 263 264 265 266 267 268 269 270 271 272 273 274 275 276 277 278 279 280 281 282 283 284 285 286 287 288 289 290 291 292 293 294 295 296 297 298 299 300 301 302 303 304 305 306 307 308 309 310 311 312 313 314 315 316 317 318 319 320 321 322 323 324 325 326 327 328 329 330 331 332 333 334 "
     ]
    }
   ],
   "source": [
    "counter = 1\n",
    "final_df = pd.DataFrame()\n",
    "\n",
    "while True:\n",
    "    webpage = get_webpage(counter)\n",
    "    counter += 1\n",
    "    \n",
    "    if webpage == False:\n",
    "        break\n",
    "\n",
    "    soup = BeautifulSoup(webpage.content, 'html.parser')\n",
    "    page_df = get_page_content(soup)\n",
    "    final_df = pd.concat([final_df, page_df])\n",
    "    "
   ]
  },
  {
   "cell_type": "code",
   "execution_count": 92,
   "metadata": {},
   "outputs": [
    {
     "data": {
      "text/plain": [
       "(9989, 7)"
      ]
     },
     "execution_count": 92,
     "metadata": {},
     "output_type": "execute_result"
    }
   ],
   "source": [
    "final_df.shape"
   ]
  },
  {
   "cell_type": "code",
   "execution_count": 93,
   "metadata": {},
   "outputs": [
    {
     "data": {
      "text/html": [
       "<div>\n",
       "<style scoped>\n",
       "    .dataframe tbody tr th:only-of-type {\n",
       "        vertical-align: middle;\n",
       "    }\n",
       "\n",
       "    .dataframe tbody tr th {\n",
       "        vertical-align: top;\n",
       "    }\n",
       "\n",
       "    .dataframe thead th {\n",
       "        text-align: right;\n",
       "    }\n",
       "</style>\n",
       "<table border=\"1\" class=\"dataframe\">\n",
       "  <thead>\n",
       "    <tr style=\"text-align: right;\">\n",
       "      <th></th>\n",
       "      <th>name</th>\n",
       "      <th>rating</th>\n",
       "      <th>icon_domain</th>\n",
       "      <th>location</th>\n",
       "      <th>age</th>\n",
       "      <th>size</th>\n",
       "      <th>tags</th>\n",
       "    </tr>\n",
       "  </thead>\n",
       "  <tbody>\n",
       "    <tr>\n",
       "      <th>0</th>\n",
       "      <td>TCS</td>\n",
       "      <td>3.9</td>\n",
       "      <td>Public</td>\n",
       "      <td>Mumbai,Maharashtra + 271 more</td>\n",
       "      <td>55 years old</td>\n",
       "      <td>1 Lakh+ Employees (India)</td>\n",
       "      <td>BPO,IT Services &amp; Consulting,Forbes Global 200...</td>\n",
       "    </tr>\n",
       "    <tr>\n",
       "      <th>1</th>\n",
       "      <td>Accenture</td>\n",
       "      <td>4.1</td>\n",
       "      <td>Public</td>\n",
       "      <td>Dublin + 131 more</td>\n",
       "      <td>34 years old</td>\n",
       "      <td>1 Lakh+ Employees (India)</td>\n",
       "      <td>IT Services &amp; Consulting,Software Product,Forb...</td>\n",
       "    </tr>\n",
       "    <tr>\n",
       "      <th>2</th>\n",
       "      <td>Cognizant</td>\n",
       "      <td>3.9</td>\n",
       "      <td>Private</td>\n",
       "      <td>Teaneck. New Jersey. + 101 more</td>\n",
       "      <td>29 years old</td>\n",
       "      <td>1 Lakh+ Employees (India)</td>\n",
       "      <td>IT Services &amp; Consulting,Forbes Global 2000</td>\n",
       "    </tr>\n",
       "    <tr>\n",
       "      <th>3</th>\n",
       "      <td>ICICI Bank</td>\n",
       "      <td>4.0</td>\n",
       "      <td>Public</td>\n",
       "      <td>Mumbai,Maharashtra + 1059 more</td>\n",
       "      <td>29 years old</td>\n",
       "      <td>1 Lakh+ Employees (India)</td>\n",
       "      <td>Financial Services,Banking,Forbes Global 2000,...</td>\n",
       "    </tr>\n",
       "    <tr>\n",
       "      <th>4</th>\n",
       "      <td>HDFC Bank</td>\n",
       "      <td>4.0</td>\n",
       "      <td>Public</td>\n",
       "      <td>Mumbai,Maharashtra + 1270 more</td>\n",
       "      <td>29 years old</td>\n",
       "      <td>50k-1 Lakh Employees (India)</td>\n",
       "      <td>Financial Services,Banking,Insurance,Forbes Gl...</td>\n",
       "    </tr>\n",
       "  </tbody>\n",
       "</table>\n",
       "</div>"
      ],
      "text/plain": [
       "         name rating icon_domain                         location  \\\n",
       "0         TCS    3.9      Public    Mumbai,Maharashtra + 271 more   \n",
       "1   Accenture    4.1      Public                Dublin + 131 more   \n",
       "2   Cognizant    3.9     Private  Teaneck. New Jersey. + 101 more   \n",
       "3  ICICI Bank    4.0      Public   Mumbai,Maharashtra + 1059 more   \n",
       "4   HDFC Bank    4.0      Public   Mumbai,Maharashtra + 1270 more   \n",
       "\n",
       "            age                          size  \\\n",
       "0  55 years old     1 Lakh+ Employees (India)   \n",
       "1  34 years old     1 Lakh+ Employees (India)   \n",
       "2  29 years old     1 Lakh+ Employees (India)   \n",
       "3  29 years old     1 Lakh+ Employees (India)   \n",
       "4  29 years old  50k-1 Lakh Employees (India)   \n",
       "\n",
       "                                                tags  \n",
       "0  BPO,IT Services & Consulting,Forbes Global 200...  \n",
       "1  IT Services & Consulting,Software Product,Forb...  \n",
       "2        IT Services & Consulting,Forbes Global 2000  \n",
       "3  Financial Services,Banking,Forbes Global 2000,...  \n",
       "4  Financial Services,Banking,Insurance,Forbes Gl...  "
      ]
     },
     "execution_count": 93,
     "metadata": {},
     "output_type": "execute_result"
    }
   ],
   "source": [
    "final_df.head()"
   ]
  },
  {
   "cell_type": "code",
   "execution_count": null,
   "metadata": {},
   "outputs": [],
   "source": []
  }
 ],
 "metadata": {
  "kernelspec": {
   "display_name": "Python 3",
   "language": "python",
   "name": "python3"
  },
  "language_info": {
   "codemirror_mode": {
    "name": "ipython",
    "version": 3
   },
   "file_extension": ".py",
   "mimetype": "text/x-python",
   "name": "python",
   "nbconvert_exporter": "python",
   "pygments_lexer": "ipython3",
   "version": "3.9.6"
  },
  "orig_nbformat": 4,
  "vscode": {
   "interpreter": {
    "hash": "7e73b09267218e3a1d59db5a5bf9ae904bb8a1c001c478bb252b86afd65a654f"
   }
  }
 },
 "nbformat": 4,
 "nbformat_minor": 2
}
